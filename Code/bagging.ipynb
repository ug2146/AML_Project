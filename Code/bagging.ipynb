{
  "nbformat": 4,
  "nbformat_minor": 0,
  "metadata": {
    "colab": {
      "provenance": [],
      "machine_shape": "hm"
    },
    "kernelspec": {
      "name": "python3",
      "display_name": "Python 3"
    },
    "language_info": {
      "name": "python"
    },
    "accelerator": "GPU",
    "gpuClass": "standard"
  },
  "cells": [
    {
      "cell_type": "code",
      "execution_count": 61,
      "metadata": {
        "id": "shmINBx_VPGQ"
      },
      "outputs": [],
      "source": [
        "import numpy as np\n",
        "import pandas as pd\n",
        "import matplotlib.pyplot as plt\n",
        "import seaborn as sns\n",
        "import missingno as msno\n",
        "import time\n",
        "import os\n",
        "import math\n",
        "\n",
        "from sklearn.svm import SVR\n",
        "from sklearn.model_selection import train_test_split, GridSearchCV, RandomizedSearchCV\n",
        "from sklearn.preprocessing import OneHotEncoder, OrdinalEncoder, StandardScaler\n",
        "from sklearn.tree import DecisionTreeRegressor\n",
        "from sklearn import tree\n",
        "from sklearn.ensemble import RandomForestClassifier, HistGradientBoostingClassifier, BaggingRegressor, VotingRegressor\n",
        "from sklearn.linear_model import Ridge, LinearRegression\n",
        "from sklearn.calibration import CalibratedClassifierCV\n",
        "from xgboost import XGBClassifier\n",
        "\n",
        "from sklearn.metrics import f1_score, accuracy_score, brier_score_loss, mean_absolute_error, mean_squared_error, f1_score, confusion_matrix, classification_report, roc_auc_score, RocCurveDisplay\n",
        "\n",
        "from sklearn.model_selection import cross_val_score\n",
        "from sklearn.model_selection import RepeatedStratifiedKFold, RepeatedKFold"
      ]
    },
    {
      "cell_type": "code",
      "source": [
        "from google.colab import drive\n",
        "drive.mount('/content/drive/')"
      ],
      "metadata": {
        "colab": {
          "base_uri": "https://localhost:8080/"
        },
        "id": "qwEsvKmSYcZm",
        "outputId": "dff4d197-68a0-4797-a3b8-9b1b519e0638"
      },
      "execution_count": 10,
      "outputs": [
        {
          "output_type": "stream",
          "name": "stdout",
          "text": [
            "Drive already mounted at /content/drive/; to attempt to forcibly remount, call drive.mount(\"/content/drive/\", force_remount=True).\n"
          ]
        }
      ]
    },
    {
      "cell_type": "markdown",
      "source": [
        "# split data into dev and test set:"
      ],
      "metadata": {
        "id": "Pe9aQ8DT594k"
      }
    },
    {
      "cell_type": "code",
      "source": [
        "used_cars_features = pd.read_csv('/content/drive/My Drive/aml/used_cars_features.csv')\n",
        "used_cars_price = pd.read_csv('/content/drive/My Drive/aml/used_cars_price.csv')"
      ],
      "metadata": {
        "id": "vebaskoUYqS8"
      },
      "execution_count": 11,
      "outputs": []
    },
    {
      "cell_type": "code",
      "source": [
        "X = used_cars_features\n",
        "y = used_cars_price['price']\n",
        "X_dev, X_test, y_dev, y_test = train_test_split(X, y, test_size=0.20, random_state=42)"
      ],
      "metadata": {
        "id": "CIx-bnQhYsGT"
      },
      "execution_count": 12,
      "outputs": []
    },
    {
      "cell_type": "code",
      "source": [
        "scaler = StandardScaler()\n",
        "X_dev_scaled = scaler.fit_transform(X_dev)       # Fit and transform scalar on X_dev\n",
        "X_test_scaled = scaler.transform(X_test)         # Transform X_test"
      ],
      "metadata": {
        "id": "Ng9IZuFHYu5F"
      },
      "execution_count": 13,
      "outputs": []
    },
    {
      "cell_type": "markdown",
      "source": [
        "# finding better estimator:"
      ],
      "metadata": {
        "id": "DQJ3jEj456TL"
      }
    },
    {
      "cell_type": "code",
      "source": [
        "regressor_tree = BaggingRegressor(DecisionTreeRegressor(), n_estimators=10)\n",
        "regressor_linear = BaggingRegressor(LinearRegression(), n_estimators=10)\n",
        "regressor_svr = BaggingRegressor(SVR(), n_estimators=10)"
      ],
      "metadata": {
        "id": "9AfA5Ya7YxBK"
      },
      "execution_count": 14,
      "outputs": []
    },
    {
      "cell_type": "code",
      "source": [
        "regressor_tree.fit(X_dev_scaled, y_dev)\n",
        "pred_tree = regressor_tree.predict(X_test_scaled)\n",
        "acc_tree = regressor_tree.score(X_test_scaled, y_test)\n",
        "print(f\"R2 score of the bagging regressor with decision tree estimator model is: {acc_tree}\")\n",
        "errors_tree = (mean_absolute_error(y_test,pred_tree)) \n",
        "print(f\"Mean absolute errors of the bagging regressor with decision tree estimator: {errors_tree}\")\n",
        "\n",
        "error_mse = (mean_squared_error(y_test,pred_tree))\n",
        "print(f\"Mean squared errors of the bagging regressor with decision tree estimator: {error_mse}\")"
      ],
      "metadata": {
        "colab": {
          "base_uri": "https://localhost:8080/"
        },
        "id": "DerHjhgIZwSt",
        "outputId": "c41308c9-7fbb-4366-aa8d-af9e3e0e970b"
      },
      "execution_count": 15,
      "outputs": [
        {
          "output_type": "stream",
          "name": "stdout",
          "text": [
            "R2 score of the bagging regressor with decision tree estimator model is: 0.9808587451750101\n",
            "Mean absolute errors of the bagging regressor with decision tree estimator: 1016.8299436021832\n",
            "Mean squared errors of the bagging regressor with decision tree estimator: 3329238.411550503\n"
          ]
        }
      ]
    },
    {
      "cell_type": "code",
      "source": [
        "regressor_linear.fit(X_dev_scaled, y_dev)\n",
        "pred_linear = regressor_linear.predict(X_test_scaled)\n",
        "acc_linear = regressor_linear.score(X_test_scaled, y_test)\n",
        "print(f\"R2 score of the bagging model (linear estimator) is: {acc_linear}\")\n",
        "errors_mae_linear = (mean_absolute_error(y_test,pred_linear)) \n",
        "print(f\"Mean absolute errors of the bagging model (linear estimator): {errors_mae_linear}\")\n",
        "\n",
        "error_mse_linear = (mean_squared_error(y_test,pred_linear))\n",
        "print(f\"Mean squared errors of the bagging model (linear estimator): {error_mse_linear}\")"
      ],
      "metadata": {
        "colab": {
          "base_uri": "https://localhost:8080/"
        },
        "id": "XuuI9xD1dGE-",
        "outputId": "8f522189-a04c-49a1-c0a3-5c5c736001bd"
      },
      "execution_count": 16,
      "outputs": [
        {
          "output_type": "stream",
          "name": "stdout",
          "text": [
            "R2 score of the bagging model (linear estimator) is: 0.9342026840609675\n",
            "Mean absolute errors of the bagging model (linear estimator): 2525.8616075160003\n",
            "Mean squared errors of the bagging model (linear estimator): 11444127.023227585\n"
          ]
        }
      ]
    },
    {
      "cell_type": "markdown",
      "source": [
        "# random search cv for hyperparameter tuning:"
      ],
      "metadata": {
        "id": "P0volQ115z6N"
      }
    },
    {
      "cell_type": "code",
      "source": [
        "cv = RepeatedKFold(n_splits=5, n_repeats=3, random_state=1)"
      ],
      "metadata": {
        "id": "vLIhV5O9JztL"
      },
      "execution_count": 23,
      "outputs": []
    },
    {
      "cell_type": "code",
      "source": [
        "params = {\"n_estimators\":[50,100,150],\n",
        "          \"max_samples\":[0.5, 0.75, 1.0],\n",
        "          \"max_features\":[0.5, 0.75, 1.0]}\n",
        "\n",
        "grid_search = RandomizedSearchCV(regressor_tree, param_distributions=params, cv=cv)\n",
        "grid_search.fit(X_dev_scaled, y_dev)\n",
        "# print(f'time cost:{time.time()-t:.8f}s')\n",
        "print(\"best hyperparameters:\", grid_search.best_params_)\n",
        "print(\"mean cross-validated score with best hyperparameters:\", grid_search.best_score_)"
      ],
      "metadata": {
        "colab": {
          "base_uri": "https://localhost:8080/"
        },
        "id": "Ofc_J4iOw8k_",
        "outputId": "797469fa-d63c-42ca-bb2e-78d1db2e7504"
      },
      "execution_count": 27,
      "outputs": [
        {
          "output_type": "stream",
          "name": "stdout",
          "text": [
            "best hyperparameters: {'n_estimators': 150, 'max_samples': 1.0, 'max_features': 0.75}\n",
            "mean cross-validated score with best hyperparameters: 0.9815925244303226\n"
          ]
        }
      ]
    },
    {
      "cell_type": "code",
      "source": [
        "grid_search.best_estimator_"
      ],
      "metadata": {
        "colab": {
          "base_uri": "https://localhost:8080/",
          "height": 202
        },
        "id": "rxwTSeZ9LZzP",
        "outputId": "664c5eec-82f3-4d24-ef2d-b4a43d384c4c"
      },
      "execution_count": 40,
      "outputs": [
        {
          "output_type": "execute_result",
          "data": {
            "text/plain": [
              "BaggingRegressor(estimator=DecisionTreeRegressor(), max_features=0.75,\n",
              "                 n_estimators=150)"
            ],
            "text/html": [
              "<style>#sk-container-id-1 {color: black;background-color: white;}#sk-container-id-1 pre{padding: 0;}#sk-container-id-1 div.sk-toggleable {background-color: white;}#sk-container-id-1 label.sk-toggleable__label {cursor: pointer;display: block;width: 100%;margin-bottom: 0;padding: 0.3em;box-sizing: border-box;text-align: center;}#sk-container-id-1 label.sk-toggleable__label-arrow:before {content: \"▸\";float: left;margin-right: 0.25em;color: #696969;}#sk-container-id-1 label.sk-toggleable__label-arrow:hover:before {color: black;}#sk-container-id-1 div.sk-estimator:hover label.sk-toggleable__label-arrow:before {color: black;}#sk-container-id-1 div.sk-toggleable__content {max-height: 0;max-width: 0;overflow: hidden;text-align: left;background-color: #f0f8ff;}#sk-container-id-1 div.sk-toggleable__content pre {margin: 0.2em;color: black;border-radius: 0.25em;background-color: #f0f8ff;}#sk-container-id-1 input.sk-toggleable__control:checked~div.sk-toggleable__content {max-height: 200px;max-width: 100%;overflow: auto;}#sk-container-id-1 input.sk-toggleable__control:checked~label.sk-toggleable__label-arrow:before {content: \"▾\";}#sk-container-id-1 div.sk-estimator input.sk-toggleable__control:checked~label.sk-toggleable__label {background-color: #d4ebff;}#sk-container-id-1 div.sk-label input.sk-toggleable__control:checked~label.sk-toggleable__label {background-color: #d4ebff;}#sk-container-id-1 input.sk-hidden--visually {border: 0;clip: rect(1px 1px 1px 1px);clip: rect(1px, 1px, 1px, 1px);height: 1px;margin: -1px;overflow: hidden;padding: 0;position: absolute;width: 1px;}#sk-container-id-1 div.sk-estimator {font-family: monospace;background-color: #f0f8ff;border: 1px dotted black;border-radius: 0.25em;box-sizing: border-box;margin-bottom: 0.5em;}#sk-container-id-1 div.sk-estimator:hover {background-color: #d4ebff;}#sk-container-id-1 div.sk-parallel-item::after {content: \"\";width: 100%;border-bottom: 1px solid gray;flex-grow: 1;}#sk-container-id-1 div.sk-label:hover label.sk-toggleable__label {background-color: #d4ebff;}#sk-container-id-1 div.sk-serial::before {content: \"\";position: absolute;border-left: 1px solid gray;box-sizing: border-box;top: 0;bottom: 0;left: 50%;z-index: 0;}#sk-container-id-1 div.sk-serial {display: flex;flex-direction: column;align-items: center;background-color: white;padding-right: 0.2em;padding-left: 0.2em;position: relative;}#sk-container-id-1 div.sk-item {position: relative;z-index: 1;}#sk-container-id-1 div.sk-parallel {display: flex;align-items: stretch;justify-content: center;background-color: white;position: relative;}#sk-container-id-1 div.sk-item::before, #sk-container-id-1 div.sk-parallel-item::before {content: \"\";position: absolute;border-left: 1px solid gray;box-sizing: border-box;top: 0;bottom: 0;left: 50%;z-index: -1;}#sk-container-id-1 div.sk-parallel-item {display: flex;flex-direction: column;z-index: 1;position: relative;background-color: white;}#sk-container-id-1 div.sk-parallel-item:first-child::after {align-self: flex-end;width: 50%;}#sk-container-id-1 div.sk-parallel-item:last-child::after {align-self: flex-start;width: 50%;}#sk-container-id-1 div.sk-parallel-item:only-child::after {width: 0;}#sk-container-id-1 div.sk-dashed-wrapped {border: 1px dashed gray;margin: 0 0.4em 0.5em 0.4em;box-sizing: border-box;padding-bottom: 0.4em;background-color: white;}#sk-container-id-1 div.sk-label label {font-family: monospace;font-weight: bold;display: inline-block;line-height: 1.2em;}#sk-container-id-1 div.sk-label-container {text-align: center;}#sk-container-id-1 div.sk-container {/* jupyter's `normalize.less` sets `[hidden] { display: none; }` but bootstrap.min.css set `[hidden] { display: none !important; }` so we also need the `!important` here to be able to override the default hidden behavior on the sphinx rendered scikit-learn.org. See: https://github.com/scikit-learn/scikit-learn/issues/21755 */display: inline-block !important;position: relative;}#sk-container-id-1 div.sk-text-repr-fallback {display: none;}</style><div id=\"sk-container-id-1\" class=\"sk-top-container\"><div class=\"sk-text-repr-fallback\"><pre>BaggingRegressor(estimator=DecisionTreeRegressor(), max_features=0.75,\n",
              "                 n_estimators=150)</pre><b>In a Jupyter environment, please rerun this cell to show the HTML representation or trust the notebook. <br />On GitHub, the HTML representation is unable to render, please try loading this page with nbviewer.org.</b></div><div class=\"sk-container\" hidden><div class=\"sk-item sk-dashed-wrapped\"><div class=\"sk-label-container\"><div class=\"sk-label sk-toggleable\"><input class=\"sk-toggleable__control sk-hidden--visually\" id=\"sk-estimator-id-1\" type=\"checkbox\" ><label for=\"sk-estimator-id-1\" class=\"sk-toggleable__label sk-toggleable__label-arrow\">BaggingRegressor</label><div class=\"sk-toggleable__content\"><pre>BaggingRegressor(estimator=DecisionTreeRegressor(), max_features=0.75,\n",
              "                 n_estimators=150)</pre></div></div></div><div class=\"sk-parallel\"><div class=\"sk-parallel-item\"><div class=\"sk-item\"><div class=\"sk-label-container\"><div class=\"sk-label sk-toggleable\"><input class=\"sk-toggleable__control sk-hidden--visually\" id=\"sk-estimator-id-2\" type=\"checkbox\" ><label for=\"sk-estimator-id-2\" class=\"sk-toggleable__label sk-toggleable__label-arrow\">estimator: DecisionTreeRegressor</label><div class=\"sk-toggleable__content\"><pre>DecisionTreeRegressor()</pre></div></div></div><div class=\"sk-serial\"><div class=\"sk-item\"><div class=\"sk-estimator sk-toggleable\"><input class=\"sk-toggleable__control sk-hidden--visually\" id=\"sk-estimator-id-3\" type=\"checkbox\" ><label for=\"sk-estimator-id-3\" class=\"sk-toggleable__label sk-toggleable__label-arrow\">DecisionTreeRegressor</label><div class=\"sk-toggleable__content\"><pre>DecisionTreeRegressor()</pre></div></div></div></div></div></div></div></div></div></div>"
            ]
          },
          "metadata": {},
          "execution_count": 40
        }
      ]
    },
    {
      "cell_type": "code",
      "source": [
        "res = pd.DataFrame.from_dict(grid_search.cv_results_)\n",
        "res.head()"
      ],
      "metadata": {
        "colab": {
          "base_uri": "https://localhost:8080/",
          "height": 559
        },
        "id": "n9TsC_v0qzsY",
        "outputId": "399df37c-3a6e-40fa-af02-76b1c5c4c7a5"
      },
      "execution_count": 39,
      "outputs": [
        {
          "output_type": "execute_result",
          "data": {
            "text/plain": [
              "   mean_fit_time  std_fit_time  mean_score_time  std_score_time  \\\n",
              "0      74.018324      1.529127         2.105192        0.034360   \n",
              "1      93.474498      0.962579         2.035239        0.034819   \n",
              "2      35.191886      0.721671         1.133368        0.020096   \n",
              "3      51.882468      0.653156         1.289176        0.020562   \n",
              "4      41.323801      1.000178         1.180934        0.024446   \n",
              "\n",
              "  param_n_estimators param_max_samples param_max_features  \\\n",
              "0                150               0.5                1.0   \n",
              "1                150               1.0               0.75   \n",
              "2                100              0.75                0.5   \n",
              "3                100              0.75               0.75   \n",
              "4                100               1.0                0.5   \n",
              "\n",
              "                                              params  split0_test_score  \\\n",
              "0  {'n_estimators': 150, 'max_samples': 0.5, 'max...           0.980281   \n",
              "1  {'n_estimators': 150, 'max_samples': 1.0, 'max...           0.980611   \n",
              "2  {'n_estimators': 100, 'max_samples': 0.75, 'ma...           0.975819   \n",
              "3  {'n_estimators': 100, 'max_samples': 0.75, 'ma...           0.979933   \n",
              "4  {'n_estimators': 100, 'max_samples': 1.0, 'max...           0.974673   \n",
              "\n",
              "   split1_test_score  ...  split8_test_score  split9_test_score  \\\n",
              "0           0.980967  ...           0.980435           0.981309   \n",
              "1           0.981148  ...           0.981609           0.982717   \n",
              "2           0.975771  ...           0.974381           0.976268   \n",
              "3           0.981227  ...           0.980785           0.981440   \n",
              "4           0.978085  ...           0.977449           0.977789   \n",
              "\n",
              "   split10_test_score  split11_test_score  split12_test_score  \\\n",
              "0            0.980514            0.980827            0.980928   \n",
              "1            0.981205            0.981751            0.982018   \n",
              "2            0.977287            0.975684            0.977410   \n",
              "3            0.981291            0.980644            0.981306   \n",
              "4            0.976349            0.977541            0.977089   \n",
              "\n",
              "   split13_test_score  split14_test_score  mean_test_score  std_test_score  \\\n",
              "0            0.979858            0.980990         0.980671        0.000378   \n",
              "1            0.981022            0.982008         0.981593        0.000519   \n",
              "2            0.975871            0.973613         0.975833        0.001017   \n",
              "3            0.980223            0.981529         0.980838        0.000533   \n",
              "4            0.977874            0.976455         0.977137        0.001032   \n",
              "\n",
              "   rank_test_score  \n",
              "0                4  \n",
              "1                1  \n",
              "2                9  \n",
              "3                3  \n",
              "4                8  \n",
              "\n",
              "[5 rows x 26 columns]"
            ],
            "text/html": [
              "\n",
              "  <div id=\"df-be1319f6-f3ac-4852-8044-92d6ba6b42e9\">\n",
              "    <div class=\"colab-df-container\">\n",
              "      <div>\n",
              "<style scoped>\n",
              "    .dataframe tbody tr th:only-of-type {\n",
              "        vertical-align: middle;\n",
              "    }\n",
              "\n",
              "    .dataframe tbody tr th {\n",
              "        vertical-align: top;\n",
              "    }\n",
              "\n",
              "    .dataframe thead th {\n",
              "        text-align: right;\n",
              "    }\n",
              "</style>\n",
              "<table border=\"1\" class=\"dataframe\">\n",
              "  <thead>\n",
              "    <tr style=\"text-align: right;\">\n",
              "      <th></th>\n",
              "      <th>mean_fit_time</th>\n",
              "      <th>std_fit_time</th>\n",
              "      <th>mean_score_time</th>\n",
              "      <th>std_score_time</th>\n",
              "      <th>param_n_estimators</th>\n",
              "      <th>param_max_samples</th>\n",
              "      <th>param_max_features</th>\n",
              "      <th>params</th>\n",
              "      <th>split0_test_score</th>\n",
              "      <th>split1_test_score</th>\n",
              "      <th>...</th>\n",
              "      <th>split8_test_score</th>\n",
              "      <th>split9_test_score</th>\n",
              "      <th>split10_test_score</th>\n",
              "      <th>split11_test_score</th>\n",
              "      <th>split12_test_score</th>\n",
              "      <th>split13_test_score</th>\n",
              "      <th>split14_test_score</th>\n",
              "      <th>mean_test_score</th>\n",
              "      <th>std_test_score</th>\n",
              "      <th>rank_test_score</th>\n",
              "    </tr>\n",
              "  </thead>\n",
              "  <tbody>\n",
              "    <tr>\n",
              "      <th>0</th>\n",
              "      <td>74.018324</td>\n",
              "      <td>1.529127</td>\n",
              "      <td>2.105192</td>\n",
              "      <td>0.034360</td>\n",
              "      <td>150</td>\n",
              "      <td>0.5</td>\n",
              "      <td>1.0</td>\n",
              "      <td>{'n_estimators': 150, 'max_samples': 0.5, 'max...</td>\n",
              "      <td>0.980281</td>\n",
              "      <td>0.980967</td>\n",
              "      <td>...</td>\n",
              "      <td>0.980435</td>\n",
              "      <td>0.981309</td>\n",
              "      <td>0.980514</td>\n",
              "      <td>0.980827</td>\n",
              "      <td>0.980928</td>\n",
              "      <td>0.979858</td>\n",
              "      <td>0.980990</td>\n",
              "      <td>0.980671</td>\n",
              "      <td>0.000378</td>\n",
              "      <td>4</td>\n",
              "    </tr>\n",
              "    <tr>\n",
              "      <th>1</th>\n",
              "      <td>93.474498</td>\n",
              "      <td>0.962579</td>\n",
              "      <td>2.035239</td>\n",
              "      <td>0.034819</td>\n",
              "      <td>150</td>\n",
              "      <td>1.0</td>\n",
              "      <td>0.75</td>\n",
              "      <td>{'n_estimators': 150, 'max_samples': 1.0, 'max...</td>\n",
              "      <td>0.980611</td>\n",
              "      <td>0.981148</td>\n",
              "      <td>...</td>\n",
              "      <td>0.981609</td>\n",
              "      <td>0.982717</td>\n",
              "      <td>0.981205</td>\n",
              "      <td>0.981751</td>\n",
              "      <td>0.982018</td>\n",
              "      <td>0.981022</td>\n",
              "      <td>0.982008</td>\n",
              "      <td>0.981593</td>\n",
              "      <td>0.000519</td>\n",
              "      <td>1</td>\n",
              "    </tr>\n",
              "    <tr>\n",
              "      <th>2</th>\n",
              "      <td>35.191886</td>\n",
              "      <td>0.721671</td>\n",
              "      <td>1.133368</td>\n",
              "      <td>0.020096</td>\n",
              "      <td>100</td>\n",
              "      <td>0.75</td>\n",
              "      <td>0.5</td>\n",
              "      <td>{'n_estimators': 100, 'max_samples': 0.75, 'ma...</td>\n",
              "      <td>0.975819</td>\n",
              "      <td>0.975771</td>\n",
              "      <td>...</td>\n",
              "      <td>0.974381</td>\n",
              "      <td>0.976268</td>\n",
              "      <td>0.977287</td>\n",
              "      <td>0.975684</td>\n",
              "      <td>0.977410</td>\n",
              "      <td>0.975871</td>\n",
              "      <td>0.973613</td>\n",
              "      <td>0.975833</td>\n",
              "      <td>0.001017</td>\n",
              "      <td>9</td>\n",
              "    </tr>\n",
              "    <tr>\n",
              "      <th>3</th>\n",
              "      <td>51.882468</td>\n",
              "      <td>0.653156</td>\n",
              "      <td>1.289176</td>\n",
              "      <td>0.020562</td>\n",
              "      <td>100</td>\n",
              "      <td>0.75</td>\n",
              "      <td>0.75</td>\n",
              "      <td>{'n_estimators': 100, 'max_samples': 0.75, 'ma...</td>\n",
              "      <td>0.979933</td>\n",
              "      <td>0.981227</td>\n",
              "      <td>...</td>\n",
              "      <td>0.980785</td>\n",
              "      <td>0.981440</td>\n",
              "      <td>0.981291</td>\n",
              "      <td>0.980644</td>\n",
              "      <td>0.981306</td>\n",
              "      <td>0.980223</td>\n",
              "      <td>0.981529</td>\n",
              "      <td>0.980838</td>\n",
              "      <td>0.000533</td>\n",
              "      <td>3</td>\n",
              "    </tr>\n",
              "    <tr>\n",
              "      <th>4</th>\n",
              "      <td>41.323801</td>\n",
              "      <td>1.000178</td>\n",
              "      <td>1.180934</td>\n",
              "      <td>0.024446</td>\n",
              "      <td>100</td>\n",
              "      <td>1.0</td>\n",
              "      <td>0.5</td>\n",
              "      <td>{'n_estimators': 100, 'max_samples': 1.0, 'max...</td>\n",
              "      <td>0.974673</td>\n",
              "      <td>0.978085</td>\n",
              "      <td>...</td>\n",
              "      <td>0.977449</td>\n",
              "      <td>0.977789</td>\n",
              "      <td>0.976349</td>\n",
              "      <td>0.977541</td>\n",
              "      <td>0.977089</td>\n",
              "      <td>0.977874</td>\n",
              "      <td>0.976455</td>\n",
              "      <td>0.977137</td>\n",
              "      <td>0.001032</td>\n",
              "      <td>8</td>\n",
              "    </tr>\n",
              "  </tbody>\n",
              "</table>\n",
              "<p>5 rows × 26 columns</p>\n",
              "</div>\n",
              "      <button class=\"colab-df-convert\" onclick=\"convertToInteractive('df-be1319f6-f3ac-4852-8044-92d6ba6b42e9')\"\n",
              "              title=\"Convert this dataframe to an interactive table.\"\n",
              "              style=\"display:none;\">\n",
              "        \n",
              "  <svg xmlns=\"http://www.w3.org/2000/svg\" height=\"24px\"viewBox=\"0 0 24 24\"\n",
              "       width=\"24px\">\n",
              "    <path d=\"M0 0h24v24H0V0z\" fill=\"none\"/>\n",
              "    <path d=\"M18.56 5.44l.94 2.06.94-2.06 2.06-.94-2.06-.94-.94-2.06-.94 2.06-2.06.94zm-11 1L8.5 8.5l.94-2.06 2.06-.94-2.06-.94L8.5 2.5l-.94 2.06-2.06.94zm10 10l.94 2.06.94-2.06 2.06-.94-2.06-.94-.94-2.06-.94 2.06-2.06.94z\"/><path d=\"M17.41 7.96l-1.37-1.37c-.4-.4-.92-.59-1.43-.59-.52 0-1.04.2-1.43.59L10.3 9.45l-7.72 7.72c-.78.78-.78 2.05 0 2.83L4 21.41c.39.39.9.59 1.41.59.51 0 1.02-.2 1.41-.59l7.78-7.78 2.81-2.81c.8-.78.8-2.07 0-2.86zM5.41 20L4 18.59l7.72-7.72 1.47 1.35L5.41 20z\"/>\n",
              "  </svg>\n",
              "      </button>\n",
              "      \n",
              "  <style>\n",
              "    .colab-df-container {\n",
              "      display:flex;\n",
              "      flex-wrap:wrap;\n",
              "      gap: 12px;\n",
              "    }\n",
              "\n",
              "    .colab-df-convert {\n",
              "      background-color: #E8F0FE;\n",
              "      border: none;\n",
              "      border-radius: 50%;\n",
              "      cursor: pointer;\n",
              "      display: none;\n",
              "      fill: #1967D2;\n",
              "      height: 32px;\n",
              "      padding: 0 0 0 0;\n",
              "      width: 32px;\n",
              "    }\n",
              "\n",
              "    .colab-df-convert:hover {\n",
              "      background-color: #E2EBFA;\n",
              "      box-shadow: 0px 1px 2px rgba(60, 64, 67, 0.3), 0px 1px 3px 1px rgba(60, 64, 67, 0.15);\n",
              "      fill: #174EA6;\n",
              "    }\n",
              "\n",
              "    [theme=dark] .colab-df-convert {\n",
              "      background-color: #3B4455;\n",
              "      fill: #D2E3FC;\n",
              "    }\n",
              "\n",
              "    [theme=dark] .colab-df-convert:hover {\n",
              "      background-color: #434B5C;\n",
              "      box-shadow: 0px 1px 3px 1px rgba(0, 0, 0, 0.15);\n",
              "      filter: drop-shadow(0px 1px 2px rgba(0, 0, 0, 0.3));\n",
              "      fill: #FFFFFF;\n",
              "    }\n",
              "  </style>\n",
              "\n",
              "      <script>\n",
              "        const buttonEl =\n",
              "          document.querySelector('#df-be1319f6-f3ac-4852-8044-92d6ba6b42e9 button.colab-df-convert');\n",
              "        buttonEl.style.display =\n",
              "          google.colab.kernel.accessAllowed ? 'block' : 'none';\n",
              "\n",
              "        async function convertToInteractive(key) {\n",
              "          const element = document.querySelector('#df-be1319f6-f3ac-4852-8044-92d6ba6b42e9');\n",
              "          const dataTable =\n",
              "            await google.colab.kernel.invokeFunction('convertToInteractive',\n",
              "                                                     [key], {});\n",
              "          if (!dataTable) return;\n",
              "\n",
              "          const docLinkHtml = 'Like what you see? Visit the ' +\n",
              "            '<a target=\"_blank\" href=https://colab.research.google.com/notebooks/data_table.ipynb>data table notebook</a>'\n",
              "            + ' to learn more about interactive tables.';\n",
              "          element.innerHTML = '';\n",
              "          dataTable['output_type'] = 'display_data';\n",
              "          await google.colab.output.renderOutput(dataTable, element);\n",
              "          const docLink = document.createElement('div');\n",
              "          docLink.innerHTML = docLinkHtml;\n",
              "          element.appendChild(docLink);\n",
              "        }\n",
              "      </script>\n",
              "    </div>\n",
              "  </div>\n",
              "  "
            ]
          },
          "metadata": {},
          "execution_count": 39
        }
      ]
    },
    {
      "cell_type": "markdown",
      "source": [
        "# save result to drive:"
      ],
      "metadata": {
        "id": "Smb3RIxB5tOB"
      }
    },
    {
      "cell_type": "code",
      "source": [
        "res.to_csv('rand_search_res.csv')\n",
        "!cp rand_search_res.csv \"drive/My Drive/aml\""
      ],
      "metadata": {
        "id": "4G1y7zRwq-V6"
      },
      "execution_count": 37,
      "outputs": []
    },
    {
      "cell_type": "markdown",
      "source": [
        "# sort results from random search cv from best to worst:"
      ],
      "metadata": {
        "id": "whh3FeD85kke"
      }
    },
    {
      "cell_type": "code",
      "source": [
        "columns = [f\"param_{name}\" for name in params.keys()]\n",
        "columns += [\"mean_test_error\", \"std_test_error\"]\n",
        "cv_results = pd.DataFrame(grid_search.cv_results_)\n",
        "cv_results[\"mean_test_error\"] = -cv_results[\"mean_test_score\"]\n",
        "cv_results[\"std_test_error\"] = cv_results[\"std_test_score\"]\n",
        "cv_results[columns].sort_values(by=\"mean_test_error\")"
      ],
      "metadata": {
        "colab": {
          "base_uri": "https://localhost:8080/",
          "height": 362
        },
        "id": "vJRcrH6hqbDT",
        "outputId": "9d3129cc-ba88-4c1f-cf92-86fc55a997c2"
      },
      "execution_count": 32,
      "outputs": [
        {
          "output_type": "execute_result",
          "data": {
            "text/plain": [
              "  param_n_estimators param_max_samples param_max_features  mean_test_error  \\\n",
              "1                150               1.0               0.75        -0.981593   \n",
              "9                150              0.75                1.0        -0.981567   \n",
              "3                100              0.75               0.75        -0.980838   \n",
              "0                150               0.5                1.0        -0.980671   \n",
              "6                 50               0.5                1.0        -0.980337   \n",
              "5                100               0.5               0.75        -0.979717   \n",
              "7                 50               0.5               0.75        -0.979327   \n",
              "4                100               1.0                0.5        -0.977137   \n",
              "2                100              0.75                0.5        -0.975833   \n",
              "8                 50               0.5                0.5        -0.974148   \n",
              "\n",
              "   std_test_error  \n",
              "1        0.000519  \n",
              "9        0.000401  \n",
              "3        0.000533  \n",
              "0        0.000378  \n",
              "6        0.000395  \n",
              "5        0.000333  \n",
              "7        0.000315  \n",
              "4        0.001032  \n",
              "2        0.001017  \n",
              "8        0.001371  "
            ],
            "text/html": [
              "\n",
              "  <div id=\"df-79a5eae4-72e9-4c6d-9ce9-cbfbd2eaa672\">\n",
              "    <div class=\"colab-df-container\">\n",
              "      <div>\n",
              "<style scoped>\n",
              "    .dataframe tbody tr th:only-of-type {\n",
              "        vertical-align: middle;\n",
              "    }\n",
              "\n",
              "    .dataframe tbody tr th {\n",
              "        vertical-align: top;\n",
              "    }\n",
              "\n",
              "    .dataframe thead th {\n",
              "        text-align: right;\n",
              "    }\n",
              "</style>\n",
              "<table border=\"1\" class=\"dataframe\">\n",
              "  <thead>\n",
              "    <tr style=\"text-align: right;\">\n",
              "      <th></th>\n",
              "      <th>param_n_estimators</th>\n",
              "      <th>param_max_samples</th>\n",
              "      <th>param_max_features</th>\n",
              "      <th>mean_test_error</th>\n",
              "      <th>std_test_error</th>\n",
              "    </tr>\n",
              "  </thead>\n",
              "  <tbody>\n",
              "    <tr>\n",
              "      <th>1</th>\n",
              "      <td>150</td>\n",
              "      <td>1.0</td>\n",
              "      <td>0.75</td>\n",
              "      <td>-0.981593</td>\n",
              "      <td>0.000519</td>\n",
              "    </tr>\n",
              "    <tr>\n",
              "      <th>9</th>\n",
              "      <td>150</td>\n",
              "      <td>0.75</td>\n",
              "      <td>1.0</td>\n",
              "      <td>-0.981567</td>\n",
              "      <td>0.000401</td>\n",
              "    </tr>\n",
              "    <tr>\n",
              "      <th>3</th>\n",
              "      <td>100</td>\n",
              "      <td>0.75</td>\n",
              "      <td>0.75</td>\n",
              "      <td>-0.980838</td>\n",
              "      <td>0.000533</td>\n",
              "    </tr>\n",
              "    <tr>\n",
              "      <th>0</th>\n",
              "      <td>150</td>\n",
              "      <td>0.5</td>\n",
              "      <td>1.0</td>\n",
              "      <td>-0.980671</td>\n",
              "      <td>0.000378</td>\n",
              "    </tr>\n",
              "    <tr>\n",
              "      <th>6</th>\n",
              "      <td>50</td>\n",
              "      <td>0.5</td>\n",
              "      <td>1.0</td>\n",
              "      <td>-0.980337</td>\n",
              "      <td>0.000395</td>\n",
              "    </tr>\n",
              "    <tr>\n",
              "      <th>5</th>\n",
              "      <td>100</td>\n",
              "      <td>0.5</td>\n",
              "      <td>0.75</td>\n",
              "      <td>-0.979717</td>\n",
              "      <td>0.000333</td>\n",
              "    </tr>\n",
              "    <tr>\n",
              "      <th>7</th>\n",
              "      <td>50</td>\n",
              "      <td>0.5</td>\n",
              "      <td>0.75</td>\n",
              "      <td>-0.979327</td>\n",
              "      <td>0.000315</td>\n",
              "    </tr>\n",
              "    <tr>\n",
              "      <th>4</th>\n",
              "      <td>100</td>\n",
              "      <td>1.0</td>\n",
              "      <td>0.5</td>\n",
              "      <td>-0.977137</td>\n",
              "      <td>0.001032</td>\n",
              "    </tr>\n",
              "    <tr>\n",
              "      <th>2</th>\n",
              "      <td>100</td>\n",
              "      <td>0.75</td>\n",
              "      <td>0.5</td>\n",
              "      <td>-0.975833</td>\n",
              "      <td>0.001017</td>\n",
              "    </tr>\n",
              "    <tr>\n",
              "      <th>8</th>\n",
              "      <td>50</td>\n",
              "      <td>0.5</td>\n",
              "      <td>0.5</td>\n",
              "      <td>-0.974148</td>\n",
              "      <td>0.001371</td>\n",
              "    </tr>\n",
              "  </tbody>\n",
              "</table>\n",
              "</div>\n",
              "      <button class=\"colab-df-convert\" onclick=\"convertToInteractive('df-79a5eae4-72e9-4c6d-9ce9-cbfbd2eaa672')\"\n",
              "              title=\"Convert this dataframe to an interactive table.\"\n",
              "              style=\"display:none;\">\n",
              "        \n",
              "  <svg xmlns=\"http://www.w3.org/2000/svg\" height=\"24px\"viewBox=\"0 0 24 24\"\n",
              "       width=\"24px\">\n",
              "    <path d=\"M0 0h24v24H0V0z\" fill=\"none\"/>\n",
              "    <path d=\"M18.56 5.44l.94 2.06.94-2.06 2.06-.94-2.06-.94-.94-2.06-.94 2.06-2.06.94zm-11 1L8.5 8.5l.94-2.06 2.06-.94-2.06-.94L8.5 2.5l-.94 2.06-2.06.94zm10 10l.94 2.06.94-2.06 2.06-.94-2.06-.94-.94-2.06-.94 2.06-2.06.94z\"/><path d=\"M17.41 7.96l-1.37-1.37c-.4-.4-.92-.59-1.43-.59-.52 0-1.04.2-1.43.59L10.3 9.45l-7.72 7.72c-.78.78-.78 2.05 0 2.83L4 21.41c.39.39.9.59 1.41.59.51 0 1.02-.2 1.41-.59l7.78-7.78 2.81-2.81c.8-.78.8-2.07 0-2.86zM5.41 20L4 18.59l7.72-7.72 1.47 1.35L5.41 20z\"/>\n",
              "  </svg>\n",
              "      </button>\n",
              "      \n",
              "  <style>\n",
              "    .colab-df-container {\n",
              "      display:flex;\n",
              "      flex-wrap:wrap;\n",
              "      gap: 12px;\n",
              "    }\n",
              "\n",
              "    .colab-df-convert {\n",
              "      background-color: #E8F0FE;\n",
              "      border: none;\n",
              "      border-radius: 50%;\n",
              "      cursor: pointer;\n",
              "      display: none;\n",
              "      fill: #1967D2;\n",
              "      height: 32px;\n",
              "      padding: 0 0 0 0;\n",
              "      width: 32px;\n",
              "    }\n",
              "\n",
              "    .colab-df-convert:hover {\n",
              "      background-color: #E2EBFA;\n",
              "      box-shadow: 0px 1px 2px rgba(60, 64, 67, 0.3), 0px 1px 3px 1px rgba(60, 64, 67, 0.15);\n",
              "      fill: #174EA6;\n",
              "    }\n",
              "\n",
              "    [theme=dark] .colab-df-convert {\n",
              "      background-color: #3B4455;\n",
              "      fill: #D2E3FC;\n",
              "    }\n",
              "\n",
              "    [theme=dark] .colab-df-convert:hover {\n",
              "      background-color: #434B5C;\n",
              "      box-shadow: 0px 1px 3px 1px rgba(0, 0, 0, 0.15);\n",
              "      filter: drop-shadow(0px 1px 2px rgba(0, 0, 0, 0.3));\n",
              "      fill: #FFFFFF;\n",
              "    }\n",
              "  </style>\n",
              "\n",
              "      <script>\n",
              "        const buttonEl =\n",
              "          document.querySelector('#df-79a5eae4-72e9-4c6d-9ce9-cbfbd2eaa672 button.colab-df-convert');\n",
              "        buttonEl.style.display =\n",
              "          google.colab.kernel.accessAllowed ? 'block' : 'none';\n",
              "\n",
              "        async function convertToInteractive(key) {\n",
              "          const element = document.querySelector('#df-79a5eae4-72e9-4c6d-9ce9-cbfbd2eaa672');\n",
              "          const dataTable =\n",
              "            await google.colab.kernel.invokeFunction('convertToInteractive',\n",
              "                                                     [key], {});\n",
              "          if (!dataTable) return;\n",
              "\n",
              "          const docLinkHtml = 'Like what you see? Visit the ' +\n",
              "            '<a target=\"_blank\" href=https://colab.research.google.com/notebooks/data_table.ipynb>data table notebook</a>'\n",
              "            + ' to learn more about interactive tables.';\n",
              "          element.innerHTML = '';\n",
              "          dataTable['output_type'] = 'display_data';\n",
              "          await google.colab.output.renderOutput(dataTable, element);\n",
              "          const docLink = document.createElement('div');\n",
              "          docLink.innerHTML = docLinkHtml;\n",
              "          element.appendChild(docLink);\n",
              "        }\n",
              "      </script>\n",
              "    </div>\n",
              "  </div>\n",
              "  "
            ]
          },
          "metadata": {},
          "execution_count": 32
        }
      ]
    },
    {
      "cell_type": "markdown",
      "source": [
        "# re-run second best estimator after dropping `unamed: 0`"
      ],
      "metadata": {
        "id": "3PcIhPjK5bGj"
      }
    },
    {
      "cell_type": "code",
      "source": [
        "X_ = used_cars_features.drop(columns=['Unnamed: 0'])\n",
        "y_ = used_cars_price['price']\n",
        "X_dev_, X_test_, y_dev_, y_test_ = train_test_split(X_, y_, test_size=0.20, random_state=42)"
      ],
      "metadata": {
        "id": "ky7ufD433CSP"
      },
      "execution_count": 70,
      "outputs": []
    },
    {
      "cell_type": "code",
      "source": [
        "scaler = StandardScaler()\n",
        "X_dev_scaled_ = scaler.fit_transform(X_dev_)       # Fit and transform scalar on X_dev\n",
        "X_test_scaled_ = scaler.transform(X_test_)         # Transform X_test"
      ],
      "metadata": {
        "id": "ODq570NP3fXj"
      },
      "execution_count": 71,
      "outputs": []
    },
    {
      "cell_type": "code",
      "source": [
        "second_best_estimator = BaggingRegressor(DecisionTreeRegressor(), n_estimators=150, max_samples=0.75, max_features=1.0)\n",
        "second_best_estimator.fit(X_dev_scaled_, y_dev_)\n",
        "pred_tree = second_best_estimator.predict(X_test_scaled_)\n",
        "acc_tree = second_best_estimator.score(X_test_scaled_, y_test_)\n",
        "print(f\"R2 score of the second best estimator model is: {acc_tree}\")\n",
        "errors_tree = (mean_absolute_error(y_test_,pred_tree)) \n",
        "print(f\"Mean absolute errors of the second best estimator: {errors_tree}\")\n",
        "\n",
        "error_mse = (mean_squared_error(y_test_,pred_tree))\n",
        "print(f\"Mean squared errors of the second best estimator: {math.sqrt(error_mse)}\")"
      ],
      "metadata": {
        "colab": {
          "base_uri": "https://localhost:8080/"
        },
        "id": "dvhE4rdvxo-V",
        "outputId": "969ecaf5-5788-4d09-d171-f89e9ac43031"
      },
      "execution_count": 72,
      "outputs": [
        {
          "output_type": "stream",
          "name": "stdout",
          "text": [
            "R2 score of the second best estimator model is: 0.9801487890155178\n",
            "Mean absolute errors of the second best estimator: 1093.903358280463\n",
            "Mean squared errors of the second best estimator: 1858.1499091519665\n"
          ]
        }
      ]
    },
    {
      "cell_type": "code",
      "source": [
        "feature_names = list(X_dev_.columns)\n",
        "print(f\"Feature names: {feature_names}\")\n",
        "importances = np.mean([\n",
        "    tree.feature_importances_ for tree in second_best_estimator.estimators_\n",
        "], axis=0)\n",
        "feature_importances = pd.Series(importances, index=feature_names)\n",
        "\n",
        "zipped_lists = zip(importances, feature_names)\n",
        "sorted_pairs = sorted(zipped_lists)\n",
        "\n",
        "tuples = zip(*sorted_pairs)\n",
        "importances, feature_names = [ list(tuple) for tuple in  tuples]\n",
        "\n",
        "importances = importances[::-1]\n",
        "feature_names = feature_names[::-1]"
      ],
      "metadata": {
        "colab": {
          "base_uri": "https://localhost:8080/"
        },
        "id": "rKvFWGScrXv5",
        "outputId": "dda999f2-627b-40b0-e899-f3e7dee5f188"
      },
      "execution_count": 73,
      "outputs": [
        {
          "output_type": "stream",
          "name": "stdout",
          "text": [
            "Feature names: ['back_legroom', 'city', 'daysonmarket', 'engine_displacement', 'exterior_color', 'franchise_dealer', 'franchise_make', 'front_legroom', 'fuel_tank_volume', 'height', 'horsepower', 'interior_color', 'is_new', 'length', 'listing_color', 'major_options', 'maximum_seating', 'mileage', 'model_name', 'seller_rating', 'transmission_display', 'trim_name', 'width', 'ord_fuel_type', 'ord_engine_cylinders', 'body_type_Convertible', 'body_type_Coupe', 'body_type_Hatchback', 'body_type_Minivan', 'body_type_Pickup Truck', 'body_type_SUV / Crossover', 'body_type_Sedan', 'body_type_Van', 'body_type_Wagon', 'wheel_system_display_4X2', 'wheel_system_display_All-Wheel Drive', 'wheel_system_display_Four-Wheel Drive', 'wheel_system_display_Front-Wheel Drive', 'wheel_system_display_Rear-Wheel Drive']\n"
          ]
        }
      ]
    },
    {
      "cell_type": "code",
      "source": [
        "ax = sns.barplot(x=feature_names, y=importances)\n",
        "ax.tick_params(axis='x', rotation=90)"
      ],
      "metadata": {
        "colab": {
          "base_uri": "https://localhost:8080/",
          "height": 702
        },
        "id": "kLC5dpQi1BTX",
        "outputId": "575e2663-1bbc-4651-ca06-09fcfae3fb81"
      },
      "execution_count": 74,
      "outputs": [
        {
          "output_type": "display_data",
          "data": {
            "text/plain": [
              "<Figure size 640x480 with 1 Axes>"
            ],
            "image/png": "[encoded data removed]"
          },
          "metadata": {}
        }
      ]
    },
    {
      "cell_type": "code",
      "source": [],
      "metadata": {
        "id": "yJ2ahs-y5Q4E"
      },
      "execution_count": null,
      "outputs": []
    }
  ]
}